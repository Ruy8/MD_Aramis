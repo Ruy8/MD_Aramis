{
  "nbformat": 4,
  "nbformat_minor": 0,
  "metadata": {
    "colab": {
      "name": "Ej_Python_1863861.ipynb",
      "provenance": [],
      "authorship_tag": "ABX9TyPslTv/G/AdZabCJAdF0TV8",
      "include_colab_link": true
    },
    "kernelspec": {
      "name": "python3",
      "display_name": "Python 3"
    },
    "language_info": {
      "name": "python"
    }
  },
  "cells": [
    {
      "cell_type": "markdown",
      "metadata": {
        "id": "view-in-github",
        "colab_type": "text"
      },
      "source": [
        "<a href=\"https://colab.research.google.com/github/Ruy8/RuyAramis_Mineria/blob/main/Ej_Python_1863861.ipynb\" target=\"_parent\"><img src=\"https://colab.research.google.com/assets/colab-badge.svg\" alt=\"Open In Colab\"/></a>"
      ]
    },
    {
      "cell_type": "code",
      "metadata": {
        "colab": {
          "base_uri": "https://localhost:8080/"
        },
        "id": "E62i0-apChwF",
        "outputId": "24dd3c8f-7385-45a3-8d31-1fc5bceca057"
      },
      "source": [
        "#Ejercicio 1\n",
        "\n",
        "a = 1863861\n",
        "b = input(\"Ingrese su nombre: \")\n",
        "\n",
        "print(b,a)"
      ],
      "execution_count": 118,
      "outputs": [
        {
          "output_type": "stream",
          "text": [
            "Ingrese su nombre: Ruy Aramis Lopez Verduzco\n",
            "Ruy Aramis Lopez Verduzco 1863861\n"
          ],
          "name": "stdout"
        }
      ]
    },
    {
      "cell_type": "code",
      "metadata": {
        "colab": {
          "base_uri": "https://localhost:8080/"
        },
        "id": "xasVhuXBFVxV",
        "outputId": "22c2aa9c-8dec-42ab-b524-33d25e4a5908"
      },
      "source": [
        "#Ejercicio 2\n",
        "\n",
        "x = int(input(\"Ingrese el primer número: \"))\n",
        "y = int(input(\"Ingrese el segundo número:\"))\n",
        "opc = input(\"Ingrese el operador matemático a manejar: \")\n",
        "if opc == '+':\n",
        "  suma = x+y\n",
        "  print(\"La suma de los dos números es: \", suma)\n",
        "elif opc == '-':\n",
        "  resta = x-y\n",
        "  print(\"La resta de los dos números es: \", resta)\n",
        "elif opc == '*':\n",
        "  mult = x*y\n",
        "  print(\"La multiplicación de los dos números es: \",mult)\n",
        "elif opc == '/':\n",
        "  div = x/y\n",
        "  print(\"La división entre los dos números es: \", div)\n",
        "elif opc == '^':\n",
        "  exp = x**y\n",
        "  print(\"El primer número elevado al segundo número es: \", exp)\n",
        "else:\n",
        "  print(\"Usted ingreso un operador no valido\")\n"
      ],
      "execution_count": 122,
      "outputs": [
        {
          "output_type": "stream",
          "text": [
            "Ingrese el primer número: 9\n",
            "Ingrese el segundo número:2\n",
            "Ingrese el operador matemático a manejar: ^\n",
            "El primer número elevado al segundo número es:  81\n"
          ],
          "name": "stdout"
        }
      ]
    },
    {
      "cell_type": "code",
      "metadata": {
        "colab": {
          "base_uri": "https://localhost:8080/"
        },
        "id": "OmHP2ddbVhKg",
        "outputId": "1ccd4156-3569-44a0-c396-bfc67a8f972b"
      },
      "source": [
        "#Ejercicio 3\n",
        "\n",
        "multiplos = list()\n",
        "i = 0\n",
        "suma = 0\n",
        "for i in range(1,31):\n",
        "  if i%3==0:\n",
        "    multiplos.append(i)\n",
        "\n",
        "for i in multiplos:\n",
        "  suma = suma + i\n",
        "\n",
        "print(multiplos)\n",
        "print(suma)"
      ],
      "execution_count": 123,
      "outputs": [
        {
          "output_type": "stream",
          "text": [
            "[3, 6, 9, 12, 15, 18, 21, 24, 27, 30]\n",
            "165\n"
          ],
          "name": "stdout"
        }
      ]
    },
    {
      "cell_type": "code",
      "metadata": {
        "colab": {
          "base_uri": "https://localhost:8080/"
        },
        "id": "8Dohknjmcyiz",
        "outputId": "4760cde5-3687-48e0-980a-65f638d50610"
      },
      "source": [
        "#Ejercicio 4\n",
        "\n",
        "np = 0\n",
        "p = 0\n",
        "c = int(input(\"Ingrese un número:\"))\n",
        "\n",
        "if c%2==0:\n",
        "  print(\"El número es par\")\n",
        "else:\n",
        "  print(\"El número es impar\")\n",
        "\n",
        "for i in range(2,c):\n",
        "  if c%i == 0:\n",
        "    np = np+1\n",
        "  else:\n",
        "    p = p+1\n",
        "\n",
        "if np == 0:\n",
        "  print(\"El número es primo\")\n",
        "else:\n",
        "  print(\"El número no es primo\")\n"
      ],
      "execution_count": 126,
      "outputs": [
        {
          "output_type": "stream",
          "text": [
            "Ingrese un número:2\n",
            "El número es par\n",
            "El número es primo\n"
          ],
          "name": "stdout"
        }
      ]
    },
    {
      "cell_type": "code",
      "metadata": {
        "colab": {
          "base_uri": "https://localhost:8080/"
        },
        "id": "YkQWFWCej0Bl",
        "outputId": "e2ad9e48-97ee-402c-a7e3-802ddba6e820"
      },
      "source": [
        "#Tuplas 1\n",
        "\n",
        "a = 5\n",
        "b = 8.548\n",
        "c = 4 + 8j\n",
        "d = True\n",
        "\n",
        "print(type(a))\n",
        "print(type(b))\n",
        "print(type(c))\n",
        "print(type(d))"
      ],
      "execution_count": 127,
      "outputs": [
        {
          "output_type": "stream",
          "text": [
            "<class 'int'>\n",
            "<class 'float'>\n",
            "<class 'complex'>\n",
            "<class 'bool'>\n"
          ],
          "name": "stdout"
        }
      ]
    },
    {
      "cell_type": "code",
      "metadata": {
        "colab": {
          "base_uri": "https://localhost:8080/"
        },
        "id": "oY0YwukDvCxB",
        "outputId": "2ef3d8f3-5b7c-4c23-e289-c24ddccfd937"
      },
      "source": [
        "#Tuplas 2\n",
        "\n",
        "t1 = (6,8,12,19,26,35)\n",
        "\n",
        "print(\"Primer elemento: \", t1[0])\n",
        "print(\"Último elemento: \", t1[5])"
      ],
      "execution_count": 128,
      "outputs": [
        {
          "output_type": "stream",
          "text": [
            "Primer elemento:  6\n",
            "Último elemento:  35\n"
          ],
          "name": "stdout"
        }
      ]
    },
    {
      "cell_type": "code",
      "metadata": {
        "colab": {
          "base_uri": "https://localhost:8080/"
        },
        "id": "UHZDOU-KwT34",
        "outputId": "9a41e215-690d-4717-af77-752658fc239d"
      },
      "source": [
        "#Tuplas 3\n",
        "\n",
        "t2 = ('Madrid', 'Barcelona', 'Paris')\n",
        "t2 = t2 + ('Milan',) + ('Valencia',) + ('Liverpool',)\n",
        "\n",
        "print(t2)"
      ],
      "execution_count": 129,
      "outputs": [
        {
          "output_type": "stream",
          "text": [
            "('Madrid', 'Barcelona', 'Paris', 'Milan', 'Valencia', 'Liverpool')\n"
          ],
          "name": "stdout"
        }
      ]
    },
    {
      "cell_type": "code",
      "metadata": {
        "colab": {
          "base_uri": "https://localhost:8080/"
        },
        "id": "I7MnCRf92g7v",
        "outputId": "2902c294-c0f7-4f9e-e603-ce698928e814"
      },
      "source": [
        "#Tuplas 4\n",
        "\n",
        "t5 = (5, 5.5, 'Deku', 4,15,89)\n",
        "\n",
        "print(\"¿Se encuentra el nombre Deku en la tupla?\", 'Deku' in t5)"
      ],
      "execution_count": 130,
      "outputs": [
        {
          "output_type": "stream",
          "text": [
            "¿Se encuentra el nombre Deku en la tupla? True\n"
          ],
          "name": "stdout"
        }
      ]
    },
    {
      "cell_type": "code",
      "metadata": {
        "colab": {
          "base_uri": "https://localhost:8080/"
        },
        "id": "LBvM9leR66Ay",
        "outputId": "ae8bf839-5bb2-49d4-cfe8-f9524b495f62"
      },
      "source": [
        "#Listas 1\n",
        "import random as r\n",
        "i = 0\n",
        "L1 = []\n",
        "\n",
        "for i in range(40):\n",
        "  num = r.randint(1,500)\n",
        "  L1.append(num)\n",
        "\n",
        "print(L1)"
      ],
      "execution_count": 131,
      "outputs": [
        {
          "output_type": "stream",
          "text": [
            "[289, 335, 380, 378, 108, 221, 432, 9, 450, 395, 203, 400, 334, 175, 205, 171, 197, 161, 67, 4, 399, 130, 422, 135, 170, 225, 370, 477, 446, 60, 124, 242, 154, 496, 307, 20, 460, 91, 325, 3]\n"
          ],
          "name": "stdout"
        }
      ]
    },
    {
      "cell_type": "code",
      "metadata": {
        "colab": {
          "base_uri": "https://localhost:8080/"
        },
        "id": "l89tP-KxLrsd",
        "outputId": "6e38b490-d126-4562-87ef-227e4f80df8d"
      },
      "source": [
        "#Listas 2 \n",
        "\n",
        "import random as r\n",
        "i = 0\n",
        "L1 = []\n",
        "\n",
        "for i in range(40):\n",
        "  num = r.randint(1,500)\n",
        "  L1.append(num)\n",
        "def Numeros(L1):\n",
        "  LP = []\n",
        "  LIP = []\n",
        "  for element in L1:\n",
        "    if element%2 == 0:\n",
        "      LP.append(element)\n",
        "    else:\n",
        "      LIP.append(element)\n",
        "  print(LP)\n",
        "  print(LIP)\n",
        "\n",
        "print(L1)\n",
        "Numeros(L1)"
      ],
      "execution_count": 132,
      "outputs": [
        {
          "output_type": "stream",
          "text": [
            "[199, 108, 468, 434, 59, 8, 75, 432, 15, 420, 463, 155, 147, 431, 253, 315, 86, 16, 49, 380, 393, 407, 412, 241, 137, 483, 258, 430, 391, 453, 126, 184, 195, 214, 269, 104, 455, 460, 132, 158]\n",
            "[108, 468, 434, 8, 432, 420, 86, 16, 380, 412, 258, 430, 126, 184, 214, 104, 460, 132, 158]\n",
            "[199, 59, 75, 15, 463, 155, 147, 431, 253, 315, 49, 393, 407, 241, 137, 483, 391, 453, 195, 269, 455]\n"
          ],
          "name": "stdout"
        }
      ]
    },
    {
      "cell_type": "code",
      "metadata": {
        "colab": {
          "base_uri": "https://localhost:8080/"
        },
        "id": "l9RMovXTLwLd",
        "outputId": "8bc204d9-3c05-45ef-8832-7957b9eaa73d"
      },
      "source": [
        "#Listas 3 \n",
        "\n",
        "import random as r\n",
        "i = 0\n",
        "L1 = []\n",
        "\n",
        "for i in range(40):\n",
        "  num = r.randint(1,500)\n",
        "  L1.append(num)\n",
        "def Numeros(L1):\n",
        "  LP = []\n",
        "  LIP = []\n",
        "  for element in L1:\n",
        "    if element%2 == 0:\n",
        "      LP.append(element)\n",
        "    else:\n",
        "      LIP.append(element)\n",
        "  print(LP)\n",
        "  print(LIP)\n",
        "\n",
        "X = print(\"La longitud de la lista de números pares es:\", len(LP))\n",
        "Y = print(\"La longitud de la lista de números impares es:\", len(LIP))"
      ],
      "execution_count": 134,
      "outputs": [
        {
          "output_type": "stream",
          "text": [
            "La longitud de la lista de números pares es: 18\n",
            "La longitud de la lista de números impares es: 22\n"
          ],
          "name": "stdout"
        }
      ]
    },
    {
      "cell_type": "code",
      "metadata": {
        "colab": {
          "base_uri": "https://localhost:8080/"
        },
        "id": "45QtIr15LwRB",
        "outputId": "98ea47b4-2892-45cf-fa1c-c65fdbfcd269"
      },
      "source": [
        "#Listas 4\n",
        "\n",
        "import random as r\n",
        "i = 0\n",
        "L1 = []\n",
        "\n",
        "for i in range(40):\n",
        "  num = r.randint(1,500)\n",
        "  L1.append(num)\n",
        "def Numeros(L1):\n",
        "  LP = []\n",
        "  LIP = []\n",
        "  for element in L1:\n",
        "    if element%2 == 0:\n",
        "      LP.append(element)\n",
        "    else:\n",
        "      LIP.append(element)\n",
        "  LP.sort(reverse=True)\n",
        "  LIP.sort()\n",
        "  print(LP)\n",
        "  print(LIP)\n",
        "\n",
        "Numeros(L1)"
      ],
      "execution_count": 135,
      "outputs": [
        {
          "output_type": "stream",
          "text": [
            "[488, 400, 388, 364, 360, 346, 334, 272, 230, 194, 194, 186, 168, 136, 116, 96, 88, 84, 48, 8]\n",
            "[7, 39, 69, 93, 119, 151, 159, 163, 169, 193, 201, 239, 263, 293, 313, 351, 415, 431, 485, 489]\n"
          ],
          "name": "stdout"
        }
      ]
    },
    {
      "cell_type": "code",
      "metadata": {
        "colab": {
          "base_uri": "https://localhost:8080/"
        },
        "id": "Y22Kj1cuMwlE",
        "outputId": "a41a6df3-915d-4f15-a658-2d42c1f0ce07"
      },
      "source": [
        "#Listas 5\n",
        "\n",
        "import random as r\n",
        "i = 0\n",
        "L1 = []\n",
        "\n",
        "for i in range(40):\n",
        "  num = r.randint(1,500)\n",
        "  L1.append(num)\n",
        "\n",
        "print(L1)\n",
        "L1.copy()\n",
        "print(L1)\n",
        "L1.reverse()\n",
        "print(L1)\n",
        "L1.extend([88,96,424])\n",
        "print(L1)\n",
        "L1.clear()\n",
        "print(L1)"
      ],
      "execution_count": 136,
      "outputs": [
        {
          "output_type": "stream",
          "text": [
            "[398, 6, 285, 175, 209, 167, 185, 123, 232, 156, 137, 144, 460, 21, 432, 232, 369, 320, 158, 225, 382, 137, 450, 459, 25, 128, 292, 319, 239, 69, 218, 461, 246, 451, 203, 392, 275, 191, 28, 401]\n",
            "[398, 6, 285, 175, 209, 167, 185, 123, 232, 156, 137, 144, 460, 21, 432, 232, 369, 320, 158, 225, 382, 137, 450, 459, 25, 128, 292, 319, 239, 69, 218, 461, 246, 451, 203, 392, 275, 191, 28, 401]\n",
            "[401, 28, 191, 275, 392, 203, 451, 246, 461, 218, 69, 239, 319, 292, 128, 25, 459, 450, 137, 382, 225, 158, 320, 369, 232, 432, 21, 460, 144, 137, 156, 232, 123, 185, 167, 209, 175, 285, 6, 398]\n",
            "[401, 28, 191, 275, 392, 203, 451, 246, 461, 218, 69, 239, 319, 292, 128, 25, 459, 450, 137, 382, 225, 158, 320, 369, 232, 432, 21, 460, 144, 137, 156, 232, 123, 185, 167, 209, 175, 285, 6, 398, 88, 96, 424]\n",
            "[]\n"
          ],
          "name": "stdout"
        }
      ]
    },
    {
      "cell_type": "code",
      "metadata": {
        "colab": {
          "base_uri": "https://localhost:8080/"
        },
        "id": "jlnTl7hmXXhD",
        "outputId": "757373a2-bb4e-487c-8737-cdbc67018c89"
      },
      "source": [
        "#Diccionarios 1\n",
        "dic = {'Alan':25, 'Keving':26, 'Edson':31, 'Barbara':24, 'Mauricio':20, 'Thalia':21}\n",
        "\n",
        "print(dic)"
      ],
      "execution_count": 137,
      "outputs": [
        {
          "output_type": "stream",
          "text": [
            "{'Alan': 25, 'Keving': 26, 'Edson': 31, 'Barbara': 24, 'Mauricio': 20, 'Thalia': 21}\n"
          ],
          "name": "stdout"
        }
      ]
    },
    {
      "cell_type": "code",
      "metadata": {
        "colab": {
          "base_uri": "https://localhost:8080/"
        },
        "id": "C0ICsD16Xtze",
        "outputId": "35345b98-1777-4ce6-c3d6-83f562540afd"
      },
      "source": [
        "#Diccionarios 2\n",
        "\n",
        "dic = {'Alan':25, 'Keving':26, 'Edson':31, 'Barbara':24, 'Mauricio':20, 'Thalia':21}\n",
        "\n",
        "edad = [25,26,31,24,20,21]\n",
        "edad.sort()\n",
        "print(edad)"
      ],
      "execution_count": 138,
      "outputs": [
        {
          "output_type": "stream",
          "text": [
            "[20, 21, 24, 25, 26, 31]\n"
          ],
          "name": "stdout"
        }
      ]
    },
    {
      "cell_type": "code",
      "metadata": {
        "colab": {
          "base_uri": "https://localhost:8080/"
        },
        "id": "7e8DdnxAY5D2",
        "outputId": "ff613652-cfc0-4724-8827-46c553ae2f54"
      },
      "source": [
        "#Diccionarios 3\n",
        "\n",
        "dic = {'Alan':25, 'Keving':26, 'Edson':31, 'Barbara':24, 'Mauricio':20, 'Thalia':21}\n",
        "\n",
        "for key in dic:\n",
        "  print(key)"
      ],
      "execution_count": 139,
      "outputs": [
        {
          "output_type": "stream",
          "text": [
            "Alan\n",
            "Keving\n",
            "Edson\n",
            "Barbara\n",
            "Mauricio\n",
            "Thalia\n"
          ],
          "name": "stdout"
        }
      ]
    },
    {
      "cell_type": "code",
      "metadata": {
        "colab": {
          "base_uri": "https://localhost:8080/"
        },
        "id": "RrRC5E5gZNo_",
        "outputId": "83543dcb-d514-44da-b78a-6bb0863d6d13"
      },
      "source": [
        "#Diccionarios 4\n",
        "\n",
        "dic = {'Alan':25, 'Keving':26, 'Edson':31, 'Barbara':24, 'Mauricio':20, 'Thalia':21}\n",
        "\n",
        "dic['Irving']=31\n",
        "dic['Clarissa']=20\n",
        "\n",
        "print(dic)"
      ],
      "execution_count": 140,
      "outputs": [
        {
          "output_type": "stream",
          "text": [
            "{'Alan': 25, 'Keving': 26, 'Edson': 31, 'Barbara': 24, 'Mauricio': 20, 'Thalia': 21, 'Irving': 31, 'Clarissa': 20}\n"
          ],
          "name": "stdout"
        }
      ]
    },
    {
      "cell_type": "code",
      "metadata": {
        "colab": {
          "base_uri": "https://localhost:8080/"
        },
        "id": "f2UC_arEZyS4",
        "outputId": "b3151cf0-0684-4665-f762-78b0fd0f2fc5"
      },
      "source": [
        "#Sets 1\n",
        "import random as r\n",
        "set1=set()\n",
        "for i in range(100):\n",
        "  num = r.randint(1,25)\n",
        "  set1.add(num)\n",
        "\n",
        "print(set1)"
      ],
      "execution_count": 142,
      "outputs": [
        {
          "output_type": "stream",
          "text": [
            "{1, 2, 3, 4, 5, 6, 7, 8, 9, 11, 12, 13, 14, 15, 16, 17, 18, 19, 20, 21, 22, 23, 24, 25}\n"
          ],
          "name": "stdout"
        }
      ]
    },
    {
      "cell_type": "code",
      "metadata": {
        "colab": {
          "base_uri": "https://localhost:8080/"
        },
        "id": "R7WuJhAbd44F",
        "outputId": "adc5dc90-39be-4392-d03a-93b077d27082"
      },
      "source": [
        "#Sets 2\n",
        "import random as r\n",
        "set1=set()\n",
        "for i in range(100):\n",
        "  num = r.randint(1,25)\n",
        "  set1.add(num)\n",
        "\n",
        "print(\"La longitud del set es:\", len(set1))"
      ],
      "execution_count": 145,
      "outputs": [
        {
          "output_type": "stream",
          "text": [
            "La longitud del set es: 25\n"
          ],
          "name": "stdout"
        }
      ]
    },
    {
      "cell_type": "code",
      "metadata": {
        "colab": {
          "base_uri": "https://localhost:8080/"
        },
        "id": "xjXSXRyMfFhW",
        "outputId": "10abd111-a936-4c33-b51f-459c5686809a"
      },
      "source": [
        "#Sets 3\n",
        "import random as r\n",
        "set2 = set()\n",
        "lista1=[]\n",
        "for i in range(5):\n",
        "  num = r.randint(1,11)\n",
        "  set2.add(num)\n",
        "\n",
        "for i in range(5):\n",
        "  num = r.randint(1,11)\n",
        "  lista1.append(num)\n",
        "\n",
        "print(set2)\n",
        "print(lista1)"
      ],
      "execution_count": 146,
      "outputs": [
        {
          "output_type": "stream",
          "text": [
            "{3, 4, 5, 9, 10}\n",
            "[8, 2, 3, 10, 11]\n"
          ],
          "name": "stdout"
        }
      ]
    }
  ]
}