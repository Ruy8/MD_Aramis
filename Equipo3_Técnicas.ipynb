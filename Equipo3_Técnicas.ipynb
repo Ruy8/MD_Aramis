{
  "nbformat": 4,
  "nbformat_minor": 0,
  "metadata": {
    "colab": {
      "name": "Equipo3_Técnicas.ipynb",
      "provenance": [],
      "include_colab_link": true
    },
    "kernelspec": {
      "name": "python3",
      "display_name": "Python 3"
    },
    "language_info": {
      "name": "python"
    }
  },
  "cells": [
    {
      "cell_type": "markdown",
      "metadata": {
        "id": "view-in-github",
        "colab_type": "text"
      },
      "source": [
        "<a href=\"https://colab.research.google.com/github/Ruy8/RuyAramis_Mineria/blob/main/Equipo3_T%C3%A9cnicas.ipynb\" target=\"_parent\"><img src=\"https://colab.research.google.com/assets/colab-badge.svg\" alt=\"Open In Colab\"/></a>"
      ]
    },
    {
      "cell_type": "markdown",
      "metadata": {
        "id": "P_0xbdqcLS4r"
      },
      "source": [
        "\n",
        "# Ejercicio técnicas de minería\n",
        "\n",
        "# Minería de datos grupo 001 Lunes \n",
        "\n",
        "## Equipo 3:\n",
        "\n",
        "- González Berumen Ricardo        1941497\n",
        "- Gaytán Gutiérrez José Claudio   1855455\n",
        "- López Verduzco Ruy Aramis       1863861\n",
        "- Rodríguez Pacheco Nancy Janeth  1845816\n",
        "- Ruiz Espitia Thalía             1941494"
      ]
    },
    {
      "cell_type": "markdown",
      "metadata": {
        "id": "FNhTopJlMLJJ"
      },
      "source": [
        "## Referencias\n",
        "\n",
        " El código presentado en este documento se hizo con la ayuda de las siguientes refenecias: \n",
        "-  https://pharos.sh/mineria-de-reglas-de-asociacion-a-traves-del-algoritmo-apriori-en-python/\n",
        "-  https://www.jacobsoft.com.mx/es_mx/aprendizaje-con-reglas-de-asociacion/\n",
        "\n",
        "```\n",
        "# Esto tiene formato de código\n",
        "```\n",
        "\n"
      ]
    },
    {
      "cell_type": "markdown",
      "metadata": {
        "id": "xXuJpxjvOgj5"
      },
      "source": [
        "## Reglas de asociación"
      ]
    },
    {
      "cell_type": "markdown",
      "metadata": {
        "id": "bSybpFuYMghg"
      },
      "source": [
        "Como objetivo principal se quiere encontrar en que momento del día se compran ciertos productos, así como también que productos van acompañados en las transacciones. \n",
        "\n",
        "Es por esto que se utilizaron reglas de asociación, para así conseguir los itemsets más repetidos"
      ]
    },
    {
      "cell_type": "code",
      "metadata": {
        "id": "fhqn4HERQ_1D"
      },
      "source": [
        "pip install apyori"
      ],
      "execution_count": null,
      "outputs": []
    },
    {
      "cell_type": "code",
      "metadata": {
        "id": "5CVVyozSMlox"
      },
      "source": [
        "import numpy as np\n",
        "import pandas as pd\n",
        "import matplotlib.pyplot as plt"
      ],
      "execution_count": null,
      "outputs": []
    },
    {
      "cell_type": "code",
      "metadata": {
        "colab": {
          "base_uri": "https://localhost:8080/"
        },
        "id": "B4JXN2g1M-xo",
        "outputId": "83fb43ff-a0c1-4099-f446-c1ed295107d8"
      },
      "source": [
        "datos = pd.read_csv(\"bread_basket.csv\")\n",
        "print(\"Número de filas y columnas\", datos.shape)\n",
        "print(\"Nombre de las columnas\", datos.columns)\n",
        "columnas = datos.columns"
      ],
      "execution_count": null,
      "outputs": [
        {
          "output_type": "stream",
          "name": "stdout",
          "text": [
            "Número de filas y columnas (20507, 5)\n",
            "Nombre de las columnas Index(['Transaction', 'Item', 'date_time', 'period_day', 'weekday_weekend'], dtype='object')\n"
          ]
        }
      ]
    },
    {
      "cell_type": "code",
      "metadata": {
        "colab": {
          "base_uri": "https://localhost:8080/",
          "height": 204
        },
        "id": "8RL0pZLmNQ2M",
        "outputId": "1359a21c-dfd5-4b89-d21f-2d8171cfde08"
      },
      "source": [
        "datos.head()"
      ],
      "execution_count": null,
      "outputs": [
        {
          "output_type": "execute_result",
          "data": {
            "text/html": [
              "<div>\n",
              "<style scoped>\n",
              "    .dataframe tbody tr th:only-of-type {\n",
              "        vertical-align: middle;\n",
              "    }\n",
              "\n",
              "    .dataframe tbody tr th {\n",
              "        vertical-align: top;\n",
              "    }\n",
              "\n",
              "    .dataframe thead th {\n",
              "        text-align: right;\n",
              "    }\n",
              "</style>\n",
              "<table border=\"1\" class=\"dataframe\">\n",
              "  <thead>\n",
              "    <tr style=\"text-align: right;\">\n",
              "      <th></th>\n",
              "      <th>Transaction</th>\n",
              "      <th>Item</th>\n",
              "      <th>date_time</th>\n",
              "      <th>period_day</th>\n",
              "      <th>weekday_weekend</th>\n",
              "    </tr>\n",
              "  </thead>\n",
              "  <tbody>\n",
              "    <tr>\n",
              "      <th>0</th>\n",
              "      <td>1</td>\n",
              "      <td>Bread</td>\n",
              "      <td>30-10-2016 09:58</td>\n",
              "      <td>morning</td>\n",
              "      <td>weekend</td>\n",
              "    </tr>\n",
              "    <tr>\n",
              "      <th>1</th>\n",
              "      <td>2</td>\n",
              "      <td>Scandinavian</td>\n",
              "      <td>30-10-2016 10:05</td>\n",
              "      <td>morning</td>\n",
              "      <td>weekend</td>\n",
              "    </tr>\n",
              "    <tr>\n",
              "      <th>2</th>\n",
              "      <td>2</td>\n",
              "      <td>Scandinavian</td>\n",
              "      <td>30-10-2016 10:05</td>\n",
              "      <td>morning</td>\n",
              "      <td>weekend</td>\n",
              "    </tr>\n",
              "    <tr>\n",
              "      <th>3</th>\n",
              "      <td>3</td>\n",
              "      <td>Hot chocolate</td>\n",
              "      <td>30-10-2016 10:07</td>\n",
              "      <td>morning</td>\n",
              "      <td>weekend</td>\n",
              "    </tr>\n",
              "    <tr>\n",
              "      <th>4</th>\n",
              "      <td>3</td>\n",
              "      <td>Jam</td>\n",
              "      <td>30-10-2016 10:07</td>\n",
              "      <td>morning</td>\n",
              "      <td>weekend</td>\n",
              "    </tr>\n",
              "  </tbody>\n",
              "</table>\n",
              "</div>"
            ],
            "text/plain": [
              "   Transaction           Item         date_time period_day weekday_weekend\n",
              "0            1          Bread  30-10-2016 09:58    morning         weekend\n",
              "1            2   Scandinavian  30-10-2016 10:05    morning         weekend\n",
              "2            2   Scandinavian  30-10-2016 10:05    morning         weekend\n",
              "3            3  Hot chocolate  30-10-2016 10:07    morning         weekend\n",
              "4            3            Jam  30-10-2016 10:07    morning         weekend"
            ]
          },
          "metadata": {},
          "execution_count": 4
        }
      ]
    },
    {
      "cell_type": "code",
      "metadata": {
        "id": "pHQiNSYpNUNC"
      },
      "source": [
        "transacciones = []\n",
        "for i in range(0,20507):\n",
        "  transacciones.append([str(datos.values[i,j]) for j in range(0,5)])"
      ],
      "execution_count": null,
      "outputs": []
    },
    {
      "cell_type": "code",
      "metadata": {
        "id": "PNGZx5Z-OJxa"
      },
      "source": [
        "from apyori import apriori\n",
        "itemsets = apriori(transacciones, min_support = 0.005, min_confidence = 0.001, min_lift = 1.001, min_length = 2)\n",
        "itemsets = list(itemsets)"
      ],
      "execution_count": null,
      "outputs": []
    },
    {
      "cell_type": "code",
      "metadata": {
        "colab": {
          "base_uri": "https://localhost:8080/"
        },
        "id": "FfRf6jSNOTRG",
        "outputId": "0b4f1187-3bf1-406a-b726-16bf4ea342f2"
      },
      "source": [
        "print(len(itemsets))\n",
        "print(itemsets[0])"
      ],
      "execution_count": null,
      "outputs": [
        {
          "output_type": "stream",
          "name": "stdout",
          "text": [
            "80\n",
            "RelationRecord(items=frozenset({'Alfajores', 'afternoon'}), support=0.011947140000975277, ordered_statistics=[OrderedStatistic(items_base=frozenset({'Alfajores'}), items_add=frozenset({'afternoon'}), confidence=0.6639566395663957, lift=1.1769175216170866), OrderedStatistic(items_base=frozenset({'afternoon'}), items_add=frozenset({'Alfajores'}), confidence=0.021177284121358803, lift=1.1769175216170866)])\n"
          ]
        }
      ]
    },
    {
      "cell_type": "code",
      "metadata": {
        "id": "XVoYOFUROXBK"
      },
      "source": [
        "def inspect(itemsets):\n",
        "  rh = [tuple(result[2][0][1]) for result in itemsets]\n",
        "  lh = [tuple(result[2][0][0]) for result in itemsets]\n",
        "  soporte = [result[1] for result in itemsets]\n",
        "  confianza = [result[2][0][2] for result in itemsets]\n",
        "  lift = [result[2][0][3] for result in itemsets]\n",
        "  return list(zip(rh, lh, soporte, confianza, lift))"
      ],
      "execution_count": null,
      "outputs": []
    },
    {
      "cell_type": "code",
      "metadata": {
        "colab": {
          "base_uri": "https://localhost:8080/",
          "height": 419
        },
        "id": "9Y_3jmWhOaa2",
        "outputId": "65dafab4-fd1c-4da1-b6d9-9beba298dadf"
      },
      "source": [
        "Tabla = pd.DataFrame(inspect(itemsets), columns=[\"lhs\", \"rhs\", \"soporte\", \"confianza\", \"lift\"])\n",
        "Tabla"
      ],
      "execution_count": null,
      "outputs": [
        {
          "output_type": "execute_result",
          "data": {
            "text/html": [
              "<div>\n",
              "<style scoped>\n",
              "    .dataframe tbody tr th:only-of-type {\n",
              "        vertical-align: middle;\n",
              "    }\n",
              "\n",
              "    .dataframe tbody tr th {\n",
              "        vertical-align: top;\n",
              "    }\n",
              "\n",
              "    .dataframe thead th {\n",
              "        text-align: right;\n",
              "    }\n",
              "</style>\n",
              "<table border=\"1\" class=\"dataframe\">\n",
              "  <thead>\n",
              "    <tr style=\"text-align: right;\">\n",
              "      <th></th>\n",
              "      <th>lhs</th>\n",
              "      <th>rhs</th>\n",
              "      <th>soporte</th>\n",
              "      <th>confianza</th>\n",
              "      <th>lift</th>\n",
              "    </tr>\n",
              "  </thead>\n",
              "  <tbody>\n",
              "    <tr>\n",
              "      <th>0</th>\n",
              "      <td>(afternoon,)</td>\n",
              "      <td>(Alfajores,)</td>\n",
              "      <td>0.011947</td>\n",
              "      <td>0.663957</td>\n",
              "      <td>1.176918</td>\n",
              "    </tr>\n",
              "    <tr>\n",
              "      <th>1</th>\n",
              "      <td>(weekday,)</td>\n",
              "      <td>(Alfajores,)</td>\n",
              "      <td>0.011313</td>\n",
              "      <td>0.628726</td>\n",
              "      <td>1.006738</td>\n",
              "    </tr>\n",
              "    <tr>\n",
              "      <th>2</th>\n",
              "      <td>(morning,)</td>\n",
              "      <td>(Bread,)</td>\n",
              "      <td>0.078510</td>\n",
              "      <td>0.484211</td>\n",
              "      <td>1.181545</td>\n",
              "    </tr>\n",
              "    <tr>\n",
              "      <th>3</th>\n",
              "      <td>(weekday,)</td>\n",
              "      <td>(Bread,)</td>\n",
              "      <td>0.102014</td>\n",
              "      <td>0.629173</td>\n",
              "      <td>1.007453</td>\n",
              "    </tr>\n",
              "    <tr>\n",
              "      <th>4</th>\n",
              "      <td>(afternoon,)</td>\n",
              "      <td>(Brownie,)</td>\n",
              "      <td>0.012142</td>\n",
              "      <td>0.656992</td>\n",
              "      <td>1.164572</td>\n",
              "    </tr>\n",
              "    <tr>\n",
              "      <th>...</th>\n",
              "      <td>...</td>\n",
              "      <td>...</td>\n",
              "      <td>...</td>\n",
              "      <td>...</td>\n",
              "      <td>...</td>\n",
              "    </tr>\n",
              "    <tr>\n",
              "      <th>75</th>\n",
              "      <td>(afternoon, weekday)</td>\n",
              "      <td>(Soup,)</td>\n",
              "      <td>0.012484</td>\n",
              "      <td>0.748538</td>\n",
              "      <td>2.110583</td>\n",
              "    </tr>\n",
              "    <tr>\n",
              "      <th>76</th>\n",
              "      <td>(afternoon, weekday)</td>\n",
              "      <td>(Tea,)</td>\n",
              "      <td>0.029648</td>\n",
              "      <td>0.423693</td>\n",
              "      <td>1.194649</td>\n",
              "    </tr>\n",
              "    <tr>\n",
              "      <th>77</th>\n",
              "      <td>(afternoon, weekend)</td>\n",
              "      <td>(Tea,)</td>\n",
              "      <td>0.015702</td>\n",
              "      <td>0.224390</td>\n",
              "      <td>1.071129</td>\n",
              "    </tr>\n",
              "    <tr>\n",
              "      <th>78</th>\n",
              "      <td>(Tea, morning)</td>\n",
              "      <td>(weekday,)</td>\n",
              "      <td>0.015995</td>\n",
              "      <td>0.025611</td>\n",
              "      <td>1.151765</td>\n",
              "    </tr>\n",
              "    <tr>\n",
              "      <th>79</th>\n",
              "      <td>(morning, weekday)</td>\n",
              "      <td>(Toast,)</td>\n",
              "      <td>0.007266</td>\n",
              "      <td>0.468553</td>\n",
              "      <td>1.857098</td>\n",
              "    </tr>\n",
              "  </tbody>\n",
              "</table>\n",
              "<p>80 rows × 5 columns</p>\n",
              "</div>"
            ],
            "text/plain": [
              "                     lhs           rhs   soporte  confianza      lift\n",
              "0           (afternoon,)  (Alfajores,)  0.011947   0.663957  1.176918\n",
              "1             (weekday,)  (Alfajores,)  0.011313   0.628726  1.006738\n",
              "2             (morning,)      (Bread,)  0.078510   0.484211  1.181545\n",
              "3             (weekday,)      (Bread,)  0.102014   0.629173  1.007453\n",
              "4           (afternoon,)    (Brownie,)  0.012142   0.656992  1.164572\n",
              "..                   ...           ...       ...        ...       ...\n",
              "75  (afternoon, weekday)       (Soup,)  0.012484   0.748538  2.110583\n",
              "76  (afternoon, weekday)        (Tea,)  0.029648   0.423693  1.194649\n",
              "77  (afternoon, weekend)        (Tea,)  0.015702   0.224390  1.071129\n",
              "78        (Tea, morning)    (weekday,)  0.015995   0.025611  1.151765\n",
              "79    (morning, weekday)      (Toast,)  0.007266   0.468553  1.857098\n",
              "\n",
              "[80 rows x 5 columns]"
            ]
          },
          "metadata": {},
          "execution_count": 11
        }
      ]
    },
    {
      "cell_type": "markdown",
      "metadata": {
        "id": "xoT7cJHAOmM_"
      },
      "source": [
        "## Series de tiempo\n"
      ]
    },
    {
      "cell_type": "markdown",
      "metadata": {
        "id": "49VlVggTOsZB"
      },
      "source": [
        "Como se quiere como objetivo secundario ver la tendencia de las ventas, haciendo una serie de tiempo se puede lograr este objetivo"
      ]
    },
    {
      "cell_type": "code",
      "metadata": {
        "colab": {
          "base_uri": "https://localhost:8080/",
          "height": 419
        },
        "id": "XIJwfIsxOoi_",
        "outputId": "d0702855-fdc4-41d0-bca7-b91e83e8d429"
      },
      "source": [
        "year = []\n",
        "month = []\n",
        "day = []\n",
        "cleanDate = []\n",
        "for fecha in datos[\"date_time\"]:\n",
        "    #print(fecha)\n",
        "    #Para separar año\n",
        "    for fechaseparada in fecha.split(\"-\"):\n",
        "        if len(fechaseparada)>2:\n",
        "            yearTEMP = fechaseparada.split(\" \")[0]\n",
        "            year.append(yearTEMP)\n",
        "    #Para separar dia\n",
        "    dayTEMP = fecha.split(\"-\")[0]\n",
        "    day.append(dayTEMP)\n",
        "    #Para separar mes\n",
        "    monthTEMP = fecha.split(\"-\")[1]\n",
        "    month.append(monthTEMP)\n",
        "    clean = yearTEMP + \"-\" + monthTEMP + \"-\" + dayTEMP\n",
        "    cleanDate.append(clean)\n",
        "\n",
        "#print(cleanDate)\n",
        "#Agregamos las columnas a la base de datos\n",
        "data_cleandate = datos.assign(clean_date = cleanDate,year = year, month = month, day = day)\n",
        "data_cleandate"
      ],
      "execution_count": null,
      "outputs": [
        {
          "output_type": "execute_result",
          "data": {
            "text/html": [
              "<div>\n",
              "<style scoped>\n",
              "    .dataframe tbody tr th:only-of-type {\n",
              "        vertical-align: middle;\n",
              "    }\n",
              "\n",
              "    .dataframe tbody tr th {\n",
              "        vertical-align: top;\n",
              "    }\n",
              "\n",
              "    .dataframe thead th {\n",
              "        text-align: right;\n",
              "    }\n",
              "</style>\n",
              "<table border=\"1\" class=\"dataframe\">\n",
              "  <thead>\n",
              "    <tr style=\"text-align: right;\">\n",
              "      <th></th>\n",
              "      <th>Transaction</th>\n",
              "      <th>Item</th>\n",
              "      <th>date_time</th>\n",
              "      <th>period_day</th>\n",
              "      <th>weekday_weekend</th>\n",
              "      <th>clean_date</th>\n",
              "      <th>year</th>\n",
              "      <th>month</th>\n",
              "      <th>day</th>\n",
              "    </tr>\n",
              "  </thead>\n",
              "  <tbody>\n",
              "    <tr>\n",
              "      <th>0</th>\n",
              "      <td>1</td>\n",
              "      <td>Bread</td>\n",
              "      <td>30-10-2016 09:58</td>\n",
              "      <td>morning</td>\n",
              "      <td>weekend</td>\n",
              "      <td>2016-10-30</td>\n",
              "      <td>2016</td>\n",
              "      <td>10</td>\n",
              "      <td>30</td>\n",
              "    </tr>\n",
              "    <tr>\n",
              "      <th>1</th>\n",
              "      <td>2</td>\n",
              "      <td>Scandinavian</td>\n",
              "      <td>30-10-2016 10:05</td>\n",
              "      <td>morning</td>\n",
              "      <td>weekend</td>\n",
              "      <td>2016-10-30</td>\n",
              "      <td>2016</td>\n",
              "      <td>10</td>\n",
              "      <td>30</td>\n",
              "    </tr>\n",
              "    <tr>\n",
              "      <th>2</th>\n",
              "      <td>2</td>\n",
              "      <td>Scandinavian</td>\n",
              "      <td>30-10-2016 10:05</td>\n",
              "      <td>morning</td>\n",
              "      <td>weekend</td>\n",
              "      <td>2016-10-30</td>\n",
              "      <td>2016</td>\n",
              "      <td>10</td>\n",
              "      <td>30</td>\n",
              "    </tr>\n",
              "    <tr>\n",
              "      <th>3</th>\n",
              "      <td>3</td>\n",
              "      <td>Hot chocolate</td>\n",
              "      <td>30-10-2016 10:07</td>\n",
              "      <td>morning</td>\n",
              "      <td>weekend</td>\n",
              "      <td>2016-10-30</td>\n",
              "      <td>2016</td>\n",
              "      <td>10</td>\n",
              "      <td>30</td>\n",
              "    </tr>\n",
              "    <tr>\n",
              "      <th>4</th>\n",
              "      <td>3</td>\n",
              "      <td>Jam</td>\n",
              "      <td>30-10-2016 10:07</td>\n",
              "      <td>morning</td>\n",
              "      <td>weekend</td>\n",
              "      <td>2016-10-30</td>\n",
              "      <td>2016</td>\n",
              "      <td>10</td>\n",
              "      <td>30</td>\n",
              "    </tr>\n",
              "    <tr>\n",
              "      <th>...</th>\n",
              "      <td>...</td>\n",
              "      <td>...</td>\n",
              "      <td>...</td>\n",
              "      <td>...</td>\n",
              "      <td>...</td>\n",
              "      <td>...</td>\n",
              "      <td>...</td>\n",
              "      <td>...</td>\n",
              "      <td>...</td>\n",
              "    </tr>\n",
              "    <tr>\n",
              "      <th>20502</th>\n",
              "      <td>9682</td>\n",
              "      <td>Coffee</td>\n",
              "      <td>09-04-2017 14:32</td>\n",
              "      <td>afternoon</td>\n",
              "      <td>weekend</td>\n",
              "      <td>2017-04-09</td>\n",
              "      <td>2017</td>\n",
              "      <td>04</td>\n",
              "      <td>09</td>\n",
              "    </tr>\n",
              "    <tr>\n",
              "      <th>20503</th>\n",
              "      <td>9682</td>\n",
              "      <td>Tea</td>\n",
              "      <td>09-04-2017 14:32</td>\n",
              "      <td>afternoon</td>\n",
              "      <td>weekend</td>\n",
              "      <td>2017-04-09</td>\n",
              "      <td>2017</td>\n",
              "      <td>04</td>\n",
              "      <td>09</td>\n",
              "    </tr>\n",
              "    <tr>\n",
              "      <th>20504</th>\n",
              "      <td>9683</td>\n",
              "      <td>Coffee</td>\n",
              "      <td>09-04-2017 14:57</td>\n",
              "      <td>afternoon</td>\n",
              "      <td>weekend</td>\n",
              "      <td>2017-04-09</td>\n",
              "      <td>2017</td>\n",
              "      <td>04</td>\n",
              "      <td>09</td>\n",
              "    </tr>\n",
              "    <tr>\n",
              "      <th>20505</th>\n",
              "      <td>9683</td>\n",
              "      <td>Pastry</td>\n",
              "      <td>09-04-2017 14:57</td>\n",
              "      <td>afternoon</td>\n",
              "      <td>weekend</td>\n",
              "      <td>2017-04-09</td>\n",
              "      <td>2017</td>\n",
              "      <td>04</td>\n",
              "      <td>09</td>\n",
              "    </tr>\n",
              "    <tr>\n",
              "      <th>20506</th>\n",
              "      <td>9684</td>\n",
              "      <td>Smoothies</td>\n",
              "      <td>09-04-2017 15:04</td>\n",
              "      <td>afternoon</td>\n",
              "      <td>weekend</td>\n",
              "      <td>2017-04-09</td>\n",
              "      <td>2017</td>\n",
              "      <td>04</td>\n",
              "      <td>09</td>\n",
              "    </tr>\n",
              "  </tbody>\n",
              "</table>\n",
              "<p>20507 rows × 9 columns</p>\n",
              "</div>"
            ],
            "text/plain": [
              "       Transaction           Item         date_time  ...  year month day\n",
              "0                1          Bread  30-10-2016 09:58  ...  2016    10  30\n",
              "1                2   Scandinavian  30-10-2016 10:05  ...  2016    10  30\n",
              "2                2   Scandinavian  30-10-2016 10:05  ...  2016    10  30\n",
              "3                3  Hot chocolate  30-10-2016 10:07  ...  2016    10  30\n",
              "4                3            Jam  30-10-2016 10:07  ...  2016    10  30\n",
              "...            ...            ...               ...  ...   ...   ...  ..\n",
              "20502         9682         Coffee  09-04-2017 14:32  ...  2017    04  09\n",
              "20503         9682            Tea  09-04-2017 14:32  ...  2017    04  09\n",
              "20504         9683         Coffee  09-04-2017 14:57  ...  2017    04  09\n",
              "20505         9683         Pastry  09-04-2017 14:57  ...  2017    04  09\n",
              "20506         9684      Smoothies  09-04-2017 15:04  ...  2017    04  09\n",
              "\n",
              "[20507 rows x 9 columns]"
            ]
          },
          "metadata": {},
          "execution_count": 12
        }
      ]
    },
    {
      "cell_type": "code",
      "metadata": {
        "colab": {
          "base_uri": "https://localhost:8080/"
        },
        "id": "gCOeFGMUOzW_",
        "outputId": "ef0b39e0-d7a1-46d3-ecdf-e5670f02528e"
      },
      "source": [
        "serieVentas = data_cleandate.groupby(by = \"clean_date\").size().reset_index(name='counts').sort_values(by = \"clean_date\", ascending=True)\n",
        "print(serieVentas)"
      ],
      "execution_count": null,
      "outputs": [
        {
          "output_type": "stream",
          "name": "stdout",
          "text": [
            "     clean_date  counts\n",
            "0    2016-10-30     170\n",
            "1    2016-10-31     199\n",
            "2    2016-11-01     150\n",
            "3    2016-11-02     164\n",
            "4    2016-11-03     189\n",
            "..          ...     ...\n",
            "154  2017-04-05     143\n",
            "155  2017-04-06     118\n",
            "156  2017-04-07      99\n",
            "157  2017-04-08     205\n",
            "158  2017-04-09      69\n",
            "\n",
            "[159 rows x 2 columns]\n"
          ]
        }
      ]
    },
    {
      "cell_type": "code",
      "metadata": {
        "colab": {
          "base_uri": "https://localhost:8080/"
        },
        "id": "0xTj69gshJLu",
        "outputId": "ff58873c-07d1-4d9f-a90d-849c68e74d7c"
      },
      "source": [
        "%load_ext rpy2.ipython"
      ],
      "execution_count": null,
      "outputs": [
        {
          "output_type": "stream",
          "name": "stdout",
          "text": [
            "The rpy2.ipython extension is already loaded. To reload it, use:\n",
            "  %reload_ext rpy2.ipython\n"
          ]
        }
      ]
    },
    {
      "cell_type": "code",
      "metadata": {
        "id": "rtOlvO0JnMv3"
      },
      "source": [
        "%%R\n",
        "library(tseries)"
      ],
      "execution_count": null,
      "outputs": []
    },
    {
      "cell_type": "code",
      "metadata": {
        "colab": {
          "base_uri": "https://localhost:8080/",
          "height": 497
        },
        "id": "Ce3uazGFhmFe",
        "outputId": "f65b2995-43ab-46cc-bab8-665691b66f81"
      },
      "source": [
        "%%R -i serieVentas\n",
        "\n",
        "serie<-ts(serieVentas$counts,frequency=365,start=c(2016,304))\n",
        "plot(serie)"
      ],
      "execution_count": null,
      "outputs": [
        {
          "output_type": "display_data",
          "data": {
            "image/png": "[encoded data removed]"
          },
          "metadata": {}
        }
      ]
    },
    {
      "cell_type": "code",
      "metadata": {
        "colab": {
          "base_uri": "https://localhost:8080/"
        },
        "id": "O0rt3lUu-DGY",
        "outputId": "e129e1fd-c8b7-4969-dcb8-012f53e6fb63"
      },
      "source": [
        "%%R\n",
        "serie"
      ],
      "execution_count": null,
      "outputs": [
        {
          "output_type": "stream",
          "name": "stdout",
          "text": [
            "Time Series:\n",
            "Start = c(2016, 304) \n",
            "End = c(2017, 97) \n",
            "Frequency = 365 \n",
            "  [1] 170 199 150 164 189 187 275 197 148 146 103 155 173 221 167 148 125 128\n",
            " [19] 135 158 209 169  88  85  79 112 121 174 150  85  93 102  83 104 191 121\n",
            " [37] 117 110  81  66 115 164  92  91  90  98 110 151 147 101 148  95 119 117\n",
            " [55] 148 169  47 104 149 106 105   1  87  76  95  84 188 103  82  71  95  72\n",
            " [73] 109 187 119  66  91  82 119 136 195 166 108 112  69 113 160 237 147  73\n",
            " [91] 113 124 121 138 292 170 136 107 103 123 143 185 113 148 113  79 109 176\n",
            "[109] 227 181 114  88 113 103 142 175 186  76 121  91  94 135 257 124  94 118\n",
            "[127]  77 104 139 203 146 103 103  87 113 118 177 128  95 102 105 123 131 246\n",
            "[145] 161  87 110  99 123 151 176 114 118 115 143 118  99 205  69\n"
          ]
        }
      ]
    },
    {
      "cell_type": "markdown",
      "metadata": {
        "id": "lvXCfL5rqHGk"
      },
      "source": [
        "# Clasificación de la serie"
      ]
    },
    {
      "cell_type": "markdown",
      "metadata": {
        "id": "LLd2LzJKqMge"
      },
      "source": [
        "## Cambios en media"
      ]
    },
    {
      "cell_type": "code",
      "metadata": {
        "colab": {
          "base_uri": "https://localhost:8080/",
          "height": 497
        },
        "id": "isxa682-nVg0",
        "outputId": "013ca61a-9785-4dd0-85fe-8ada7f83a0e0"
      },
      "source": [
        "%%R\n",
        "lineal<-lm(serie~time(serie))\n",
        "plot(serie)\n",
        "abline(lineal,col=\"purple\",lwd=2)"
      ],
      "execution_count": null,
      "outputs": [
        {
          "output_type": "display_data",
          "data": {
            "image/png": "[encoded data removed]"
          },
          "metadata": {}
        }
      ]
    },
    {
      "cell_type": "code",
      "metadata": {
        "colab": {
          "base_uri": "https://localhost:8080/"
        },
        "id": "yJPsldQSp9-m",
        "outputId": "217de980-a478-4fcd-e641-2aec3321de44"
      },
      "source": [
        "%%R\n",
        "summary(lineal)"
      ],
      "execution_count": null,
      "outputs": [
        {
          "output_type": "stream",
          "name": "stdout",
          "text": [
            "\n",
            "Call:\n",
            "lm(formula = serie ~ time(serie))\n",
            "\n",
            "Residuals:\n",
            "    Min      1Q  Median      3Q     Max \n",
            "-129.44  -30.64  -10.06   21.07  164.24 \n",
            "\n",
            "Coefficients:\n",
            "            Estimate Std. Error t value Pr(>|t|)\n",
            "(Intercept) 59928.33   57273.30   1.046    0.297\n",
            "time(serie)   -29.65      28.39  -1.044    0.298\n",
            "\n",
            "Residual standard error: 45.02 on 157 degrees of freedom\n",
            "Multiple R-squared:  0.006896,\tAdjusted R-squared:  0.0005703 \n",
            "F-statistic:  1.09 on 1 and 157 DF,  p-value: 0.298\n",
            "\n"
          ]
        }
      ]
    },
    {
      "cell_type": "markdown",
      "metadata": {
        "id": "ZSkoml0srRY3"
      },
      "source": [
        "H0: La regresión no es significativa        \n",
        "Ha: La regresión es significativa\n",
        "\n",
        "- pvalor = 0.298\n",
        "\n",
        "- alfa = 0.05\n",
        "\n",
        "Como p-valor > alfa, no rechazo H0 \n",
        "\n",
        "Por lo tanto, con el 95% de confianza se tiene evidencia estadística para decir que la regresión no es significativa\n",
        "\n",
        "\n",
        "\n"
      ]
    },
    {
      "cell_type": "code",
      "metadata": {
        "colab": {
          "base_uri": "https://localhost:8080/",
          "height": 497
        },
        "id": "0Dbmrj-7oanB",
        "outputId": "875987b0-e9ae-4fae-ede0-6d9da8b21b6c"
      },
      "source": [
        "%%R\n",
        "cubico<-lm(serie~poly(as.numeric(time(serie)),degree=3))\n",
        "plot(serie)\n",
        "lines(as.numeric(time(serie)),fitted.values(cubico),col=\"red\",lwd=2)"
      ],
      "execution_count": null,
      "outputs": [
        {
          "output_type": "display_data",
          "data": {
            "image/png": "[encoded data removed]"
          },
          "metadata": {}
        }
      ]
    },
    {
      "cell_type": "code",
      "metadata": {
        "colab": {
          "base_uri": "https://localhost:8080/"
        },
        "id": "PcRLfsVpp8k9",
        "outputId": "8b46e35f-b4b6-47fb-e3e8-99391c5990a2"
      },
      "source": [
        "%%R\n",
        "summary(cubico)"
      ],
      "execution_count": null,
      "outputs": [
        {
          "output_type": "stream",
          "name": "stdout",
          "text": [
            "\n",
            "Call:\n",
            "lm(formula = serie ~ poly(as.numeric(time(serie)), degree = 3))\n",
            "\n",
            "Residuals:\n",
            "     Min       1Q   Median       3Q      Max \n",
            "-108.675  -25.393   -7.553   18.290  165.313 \n",
            "\n",
            "Coefficients:\n",
            "                                           Estimate Std. Error t value Pr(>|t|)\n",
            "(Intercept)                                 128.975      3.328  38.750  < 2e-16\n",
            "poly(as.numeric(time(serie)), degree = 3)1  -47.009     41.969  -1.120 0.264410\n",
            "poly(as.numeric(time(serie)), degree = 3)2  131.448     41.969   3.132 0.002076\n",
            "poly(as.numeric(time(serie)), degree = 3)3 -167.205     41.969  -3.984 0.000104\n",
            "                                              \n",
            "(Intercept)                                ***\n",
            "poly(as.numeric(time(serie)), degree = 3)1    \n",
            "poly(as.numeric(time(serie)), degree = 3)2 ** \n",
            "poly(as.numeric(time(serie)), degree = 3)3 ***\n",
            "---\n",
            "Signif. codes:  0 ‘***’ 0.001 ‘**’ 0.01 ‘*’ 0.05 ‘.’ 0.1 ‘ ’ 1\n",
            "\n",
            "Residual standard error: 41.97 on 155 degrees of freedom\n",
            "Multiple R-squared:  0.1481,\tAdjusted R-squared:  0.1316 \n",
            "F-statistic: 8.979 on 3 and 155 DF,  p-value: 1.609e-05\n",
            "\n"
          ]
        }
      ]
    },
    {
      "cell_type": "markdown",
      "metadata": {
        "id": "KDqZz3EItndW"
      },
      "source": [
        "H0: La regresión no es significativa        \n",
        "Ha: La regresión es significativa\n",
        "\n",
        "- pvalor = 1.609e-05\n",
        "\n",
        "- alfa = 0.05\n",
        "\n",
        "Como p-valor < alfa, rechazo H0 \n",
        "\n",
        "Por lo tanto, con el 95% de confianza se tiene evidencia estadística para decir que la regresión es significativa"
      ]
    },
    {
      "cell_type": "markdown",
      "metadata": {
        "id": "PLFv3r41t2-2"
      },
      "source": [
        "<<< Como la serie presenta tendencia, no es estacionaria en media >>>"
      ]
    },
    {
      "cell_type": "markdown",
      "metadata": {
        "id": "hql5nUrRwjwN"
      },
      "source": [
        "## Cambios en varianza"
      ]
    },
    {
      "cell_type": "code",
      "metadata": {
        "colab": {
          "base_uri": "https://localhost:8080/"
        },
        "id": "rlomdJ7gu8in",
        "outputId": "0c4f990b-7437-4558-a1fe-bb0d811bc777"
      },
      "source": [
        "%%R \n",
        "adf.test(serie,alternative=\"stationary\")"
      ],
      "execution_count": null,
      "outputs": [
        {
          "output_type": "stream",
          "name": "stdout",
          "text": [
            "\n",
            "\tAugmented Dickey-Fuller Test\n",
            "\n",
            "data:  serie\n",
            "Dickey-Fuller = -3.8297, Lag order = 5, p-value = 0.01936\n",
            "alternative hypothesis: stationary\n",
            "\n"
          ]
        }
      ]
    },
    {
      "cell_type": "markdown",
      "metadata": {
        "id": "9YfUDaGpvVLS"
      },
      "source": [
        "H0: La serie no es estacionaria en varianza       \n",
        "Ha: La serie es estacionaria en varianza\n",
        "\n",
        "- pvalor = 0.01936\n",
        "\n",
        "- alfa = 0.05\n",
        "\n",
        "Como p-valor < alfa, rechazo H0 \n",
        "\n",
        "Por lo tanto, con el 95% de confianza se tiene evidencia estadística para decir que la serie es estacionaria en varianza"
      ]
    },
    {
      "cell_type": "markdown",
      "metadata": {
        "id": "_VKlRFiIvn_i"
      },
      "source": [
        "## Clasificación de la serie: \n",
        "\n",
        "Serie no estacionaria por cambios en media"
      ]
    },
    {
      "cell_type": "markdown",
      "metadata": {
        "id": "a9uT3e88wV-B"
      },
      "source": [
        "# Corrección de la serie"
      ]
    },
    {
      "cell_type": "markdown",
      "metadata": {
        "id": "0iZ71yt1vvrm"
      },
      "source": [
        "Para hacer la serie estacionaria, se hará una correción usando la función de diferenciación"
      ]
    },
    {
      "cell_type": "code",
      "metadata": {
        "colab": {
          "base_uri": "https://localhost:8080/",
          "height": 497
        },
        "id": "G16Rda18wHyl",
        "outputId": "8fcafc88-0c7a-4910-c19d-0be7d8f463d2"
      },
      "source": [
        "%%R\n",
        "c1<-diff(serie)\n",
        "plot(c1)"
      ],
      "execution_count": null,
      "outputs": [
        {
          "output_type": "display_data",
          "data": {
            "image/png": "[encoded data removed]"
          },
          "metadata": {}
        }
      ]
    },
    {
      "cell_type": "markdown",
      "metadata": {
        "id": "tTqAyCjywswr"
      },
      "source": [
        "## Cambios en media \n"
      ]
    },
    {
      "cell_type": "code",
      "metadata": {
        "colab": {
          "base_uri": "https://localhost:8080/",
          "height": 497
        },
        "id": "GuC5v4lEwz1I",
        "outputId": "3fa0a2cf-3090-447f-b78e-1457b3590ae4"
      },
      "source": [
        "%%R\n",
        "lineal<-lm(c1~time(c1))\n",
        "plot(c1)\n",
        "abline(lineal,col=\"purple\",lwd=2)"
      ],
      "execution_count": null,
      "outputs": [
        {
          "output_type": "display_data",
          "data": {
            "image/png": "[encoded data removed]"
          },
          "metadata": {}
        }
      ]
    },
    {
      "cell_type": "code",
      "metadata": {
        "colab": {
          "base_uri": "https://localhost:8080/"
        },
        "id": "0alCdhGrxEVK",
        "outputId": "a1e81153-5c49-46f3-b1c7-04897eb5f3eb"
      },
      "source": [
        "%%R\n",
        "summary(lineal)"
      ],
      "execution_count": null,
      "outputs": [
        {
          "output_type": "stream",
          "name": "stdout",
          "text": [
            "\n",
            "Call:\n",
            "lm(formula = c1 ~ time(c1))\n",
            "\n",
            "Residuals:\n",
            "     Min       1Q   Median       3Q      Max \n",
            "-135.001  -31.364    3.871   30.390  154.706 \n",
            "\n",
            "Coefficients:\n",
            "             Estimate Std. Error t value Pr(>|t|)\n",
            "(Intercept)  3373.831  65555.913   0.051    0.959\n",
            "time(c1)       -1.673     32.501  -0.051    0.959\n",
            "\n",
            "Residual standard error: 51.05 on 156 degrees of freedom\n",
            "Multiple R-squared:  1.698e-05,\tAdjusted R-squared:  -0.006393 \n",
            "F-statistic: 0.00265 on 1 and 156 DF,  p-value: 0.959\n",
            "\n"
          ]
        }
      ]
    },
    {
      "cell_type": "markdown",
      "metadata": {
        "id": "542_Bv7HxJqK"
      },
      "source": [
        "H0: La regresión no es significativa        \n",
        "Ha: La regresión es significativa\n",
        "\n",
        "- pvalor = 0.959\n",
        "\n",
        "- alfa = 0.05\n",
        "\n",
        "Como p-valor > alfa, no rechazo H0 \n",
        "\n",
        "Por lo tanto, con el 95% de confianza se tiene evidencia estadística para decir que la regresión no es significativa"
      ]
    },
    {
      "cell_type": "code",
      "metadata": {
        "colab": {
          "base_uri": "https://localhost:8080/",
          "height": 497
        },
        "id": "BqIzw-XRxKeh",
        "outputId": "c19f2471-f949-4545-f6c1-a3f69977be4a"
      },
      "source": [
        "%%R\n",
        "cubico<-lm(c1~poly(as.numeric(time(c1)),degree=3))\n",
        "plot(c1)\n",
        "lines(as.numeric(time(c1)),fitted.values(cubico),col=\"red\",lwd=2)"
      ],
      "execution_count": null,
      "outputs": [
        {
          "output_type": "display_data",
          "data": {
            "image/png": "[encoded data removed]"
          },
          "metadata": {}
        }
      ]
    },
    {
      "cell_type": "code",
      "metadata": {
        "colab": {
          "base_uri": "https://localhost:8080/"
        },
        "id": "6m3CLCjjxf79",
        "outputId": "9d1bbb85-00b5-4b9d-84dc-eb4432c17e0d"
      },
      "source": [
        "%%R\n",
        "summary(cubico)"
      ],
      "execution_count": null,
      "outputs": [
        {
          "output_type": "stream",
          "name": "stdout",
          "text": [
            "\n",
            "Call:\n",
            "lm(formula = c1 ~ poly(as.numeric(time(c1)), degree = 3))\n",
            "\n",
            "Residuals:\n",
            "     Min       1Q   Median       3Q      Max \n",
            "-133.506  -31.304    3.746   31.866  152.654 \n",
            "\n",
            "Coefficients:\n",
            "                                        Estimate Std. Error t value Pr(>|t|)\n",
            "(Intercept)                              -0.6392     4.0853  -0.156    0.876\n",
            "poly(as.numeric(time(c1)), degree = 3)1  -2.6277    51.3508  -0.051    0.959\n",
            "poly(as.numeric(time(c1)), degree = 3)2 -15.9848    51.3508  -0.311    0.756\n",
            "poly(as.numeric(time(c1)), degree = 3)3 -14.1451    51.3508  -0.275    0.783\n",
            "\n",
            "Residual standard error: 51.35 on 154 degrees of freedom\n",
            "Multiple R-squared:  0.001138,\tAdjusted R-squared:  -0.01832 \n",
            "F-statistic: 0.05847 on 3 and 154 DF,  p-value: 0.9814\n",
            "\n"
          ]
        }
      ]
    },
    {
      "cell_type": "markdown",
      "metadata": {
        "id": "apNqVOFnxpqD"
      },
      "source": [
        "H0: La regresión no es significativa        \n",
        "Ha: La regresión es significativa\n",
        "\n",
        "- pvalor = 0.9814\n",
        "\n",
        "- alfa = 0.05\n",
        "\n",
        "Como p-valor > alfa, no rechazo H0 \n",
        "\n",
        "Por lo tanto, con el 95% de confianza se tiene evidencia estadística para decir que la regresión no es significativa"
      ]
    },
    {
      "cell_type": "markdown",
      "metadata": {
        "id": "simEPXoaxxxD"
      },
      "source": [
        "La serie no presenta tendencia, serie estacionaria en media"
      ]
    },
    {
      "cell_type": "markdown",
      "metadata": {
        "id": "_gmf-ycix7JU"
      },
      "source": [
        "## Cambios en varianza"
      ]
    },
    {
      "cell_type": "code",
      "metadata": {
        "colab": {
          "base_uri": "https://localhost:8080/"
        },
        "id": "Y7pZHGH_yBGF",
        "outputId": "bcb09291-a1ed-4f00-bae0-f4ffd3de7e1b"
      },
      "source": [
        "%%R \n",
        "adf.test(c1,alternative=\"stationary\")"
      ],
      "execution_count": null,
      "outputs": [
        {
          "output_type": "stream",
          "name": "stdout",
          "text": [
            "\n",
            "\tAugmented Dickey-Fuller Test\n",
            "\n",
            "data:  c1\n",
            "Dickey-Fuller = -17.968, Lag order = 5, p-value = 0.01\n",
            "alternative hypothesis: stationary\n",
            "\n"
          ]
        }
      ]
    },
    {
      "cell_type": "markdown",
      "metadata": {
        "id": "Xo4vM7asyIIz"
      },
      "source": [
        "H0: La serie no es estacionaria en varianza       \n",
        "Ha: La serie es estacionaria en varianza\n",
        "\n",
        "- pvalor = 0.01\n",
        "\n",
        "- alfa = 0.05\n",
        "\n",
        "Como p-valor < alfa, rechazo H0 \n",
        "\n",
        "Por lo tanto, con el 95% de confianza se tiene evidencia estadística para decir que la serie es estacionaria en varianza"
      ]
    },
    {
      "cell_type": "markdown",
      "metadata": {
        "id": "T1NPeSilyYp1"
      },
      "source": [
        "## Clasificación de la serie\n",
        "La serie es estacionaria"
      ]
    },
    {
      "cell_type": "markdown",
      "metadata": {
        "id": "RPqaDxn1yfv6"
      },
      "source": [
        "# Selección de modelo"
      ]
    },
    {
      "cell_type": "code",
      "metadata": {
        "colab": {
          "base_uri": "https://localhost:8080/"
        },
        "id": "c18V8t05zEt8",
        "outputId": "2e93ddaa-9b63-414d-a1e5-64ef32e60bec"
      },
      "source": [
        "%%R\n",
        "\n",
        "options(warns=-1)\n",
        "min<-Inf\n",
        "\n",
        "for(j in 0:9){\n",
        "  \n",
        "  for(i in 0:9){\n",
        "    \n",
        "    u<-AIC(arima(c1,order=c(j,0,i),method=\"ML\"))\n",
        "    \n",
        "    if(u<min){\n",
        "      min<-u\n",
        "      pq<-c(j,i)\n",
        "    }\n",
        "  }\n",
        "}\n",
        "\n",
        "min\n",
        "pq\n"
      ],
      "execution_count": null,
      "outputs": [
        {
          "output_type": "stream",
          "name": "stdout",
          "text": [
            "[1] 7 9\n"
          ]
        }
      ]
    },
    {
      "cell_type": "markdown",
      "metadata": {
        "id": "1vhKkVyi4olm"
      },
      "source": [
        "Después de correr el ciclo, el mejor modelo para la corrección es un ARMA(7,9)"
      ]
    },
    {
      "cell_type": "code",
      "metadata": {
        "id": "XOLv_bbB4xkD"
      },
      "source": [
        "%%R\n",
        "\n",
        "mejor<-arima(c1,order=c(7,0,9),method=\"ML\")\n"
      ],
      "execution_count": null,
      "outputs": []
    },
    {
      "cell_type": "code",
      "metadata": {
        "colab": {
          "base_uri": "https://localhost:8080/"
        },
        "id": "fIOs6Xqx5KUZ",
        "outputId": "3e7522bd-f295-4c54-b317-e01b50fdffca"
      },
      "source": [
        "%%R\n",
        "AIC(mejor)"
      ],
      "execution_count": null,
      "outputs": [
        {
          "output_type": "stream",
          "name": "stdout",
          "text": [
            "[1] 1548.688\n"
          ]
        }
      ]
    },
    {
      "cell_type": "markdown",
      "metadata": {
        "id": "bsrusVUE5QMP"
      },
      "source": [
        "# Ruido blanco"
      ]
    },
    {
      "cell_type": "markdown",
      "metadata": {
        "id": "_bryJ0au5ZOe"
      },
      "source": [
        "Para saber si se pueden hacer preddicciones con el modelo, se tiene que checar que se cumplan los supuestos de ruido blanco"
      ]
    },
    {
      "cell_type": "code",
      "metadata": {
        "id": "mC7P7tW85oMn"
      },
      "source": [
        "%%R\n",
        "\n",
        "r<-residuals(mejor)"
      ],
      "execution_count": null,
      "outputs": []
    },
    {
      "cell_type": "markdown",
      "metadata": {
        "id": "cCEa49QK5VRp"
      },
      "source": [
        "## Media cero"
      ]
    },
    {
      "cell_type": "code",
      "metadata": {
        "colab": {
          "base_uri": "https://localhost:8080/"
        },
        "id": "Hj20ryHQ5XZv",
        "outputId": "078d45e7-38da-4fa7-fb3d-a679216a1f3c"
      },
      "source": [
        "%%R \n",
        "\n",
        "cat(mean(r))\n",
        "cat(\"\\n\",mean(r)/var(r))\n"
      ],
      "execution_count": null,
      "outputs": [
        {
          "output_type": "stream",
          "name": "stdout",
          "text": [
            "0.3803036\n",
            " 0.0004988511"
          ]
        }
      ]
    },
    {
      "cell_type": "markdown",
      "metadata": {
        "id": "OMePBk3o58VV"
      },
      "source": [
        "Como la media es cercana al cero, se puede decir que el supuesto de media cero se cumple"
      ]
    },
    {
      "cell_type": "markdown",
      "metadata": {
        "id": "Hy1lRGZ757RX"
      },
      "source": [
        "## Varianza constante"
      ]
    },
    {
      "cell_type": "code",
      "metadata": {
        "colab": {
          "base_uri": "https://localhost:8080/",
          "height": 497
        },
        "id": "QBhl2-pw6IiP",
        "outputId": "563b458f-64e0-4661-cfe0-da438e733152"
      },
      "source": [
        "%%R \n",
        "\n",
        "plot(r,type=\"p\",col=\"blue\",pch=16)"
      ],
      "execution_count": null,
      "outputs": [
        {
          "output_type": "display_data",
          "data": {
            "image/png": "[encoded data removed]"
          },
          "metadata": {}
        }
      ]
    },
    {
      "cell_type": "markdown",
      "metadata": {
        "id": "OgqlK3sY6R20"
      },
      "source": [
        "Como no se tienen patrones aparentes, el supuesto de varianza constante también se cumple"
      ]
    },
    {
      "cell_type": "markdown",
      "metadata": {
        "id": "zRMzWjFz6oq-"
      },
      "source": [
        "## Incorrelación "
      ]
    },
    {
      "cell_type": "code",
      "metadata": {
        "colab": {
          "base_uri": "https://localhost:8080/",
          "height": 497
        },
        "id": "PGopIlj-6rJ4",
        "outputId": "fdf9ee6b-7ab7-49b0-eb6e-b2ca5edf2a2f"
      },
      "source": [
        "%%R\n",
        "acf(r)"
      ],
      "execution_count": null,
      "outputs": [
        {
          "output_type": "display_data",
          "data": {
            "image/png": "[encoded data removed]"
          },
          "metadata": {}
        }
      ]
    },
    {
      "cell_type": "code",
      "metadata": {
        "colab": {
          "base_uri": "https://localhost:8080/",
          "height": 497
        },
        "id": "1MgnNPcE6wq5",
        "outputId": "6339cfea-30a3-4dbc-d694-de8ca8638d6c"
      },
      "source": [
        "%%R\n",
        "pacf(r)"
      ],
      "execution_count": null,
      "outputs": [
        {
          "output_type": "display_data",
          "data": {
            "image/png": "[encoded data removed]"
          },
          "metadata": {}
        }
      ]
    },
    {
      "cell_type": "code",
      "metadata": {
        "colab": {
          "base_uri": "https://localhost:8080/"
        },
        "id": "KlGQYVta61Ay",
        "outputId": "685ce0da-7d50-4055-bd59-d98478f5c328"
      },
      "source": [
        "%%R\n",
        "Box.test(r)"
      ],
      "execution_count": null,
      "outputs": [
        {
          "output_type": "stream",
          "name": "stdout",
          "text": [
            "\n",
            "\tBox-Pierce test\n",
            "\n",
            "data:  r\n",
            "X-squared = 0.010958, df = 1, p-value = 0.9166\n",
            "\n"
          ]
        }
      ]
    },
    {
      "cell_type": "markdown",
      "metadata": {
        "id": "nwipAoO366br"
      },
      "source": [
        "H0: Los datos son indpendientes      \n",
        "Ha: Los datos son dependientes\n",
        "\n",
        "- pvalor = 0.9166\n",
        "\n",
        "- alfa = 0.05\n",
        "\n",
        "Como p-valor > alfa, no rechazo H0 \n",
        "\n",
        "Por lo tanto, con el 95% de confianza se tiene evidencia estadística para decir que los residuales son independientes"
      ]
    },
    {
      "cell_type": "markdown",
      "metadata": {
        "id": "hc9oTMdd7_2h"
      },
      "source": [
        "Por lo tanto los datos cumplen con los supuestos de ruido blanco, es seguro hacer predicciones"
      ]
    },
    {
      "cell_type": "markdown",
      "metadata": {
        "id": "TyqHLbG98EQI"
      },
      "source": [
        "## Normalidad"
      ]
    },
    {
      "cell_type": "code",
      "metadata": {
        "colab": {
          "base_uri": "https://localhost:8080/"
        },
        "id": "BSFw8Z9m7JYa",
        "outputId": "2102c53c-402c-4a08-bc71-0b546484fd91"
      },
      "source": [
        "%%R\n",
        "shapiro.test(r)"
      ],
      "execution_count": null,
      "outputs": [
        {
          "output_type": "stream",
          "name": "stdout",
          "text": [
            "\n",
            "\tShapiro-Wilk normality test\n",
            "\n",
            "data:  r\n",
            "W = 0.95442, p-value = 4.931e-05\n",
            "\n"
          ]
        }
      ]
    },
    {
      "cell_type": "markdown",
      "metadata": {
        "id": "_92wlwbt7iP0"
      },
      "source": [
        "H0: Los datos siguen una distribución normal      \n",
        "Ha: Los datos siguen cualquier otra distribución\n",
        "\n",
        "- pvalor = 4.931e-05\n",
        "\n",
        "- alfa = 0.05\n",
        "\n",
        "Como p-valor < alfa, rechazo H0 \n",
        "\n",
        "Por lo tanto, con el 95% de confianza se tiene evidencia estadística para decir que los residuales no siguen una distribución normal"
      ]
    },
    {
      "cell_type": "markdown",
      "metadata": {
        "id": "sHklSG4aXpZt"
      },
      "source": [
        "## Predicciones"
      ]
    },
    {
      "cell_type": "code",
      "metadata": {
        "id": "nQiTucFe8MZQ"
      },
      "source": [
        "%%R\n",
        "mejor.org<-arima(serie,order=c(7,1,9),method=\"ML\")"
      ],
      "execution_count": null,
      "outputs": []
    },
    {
      "cell_type": "code",
      "metadata": {
        "colab": {
          "base_uri": "https://localhost:8080/"
        },
        "id": "7AJBEo0S796g",
        "outputId": "ac9f9901-bb49-48db-89ff-8d77d4e177f5"
      },
      "source": [
        "%%R \n",
        "pred<-predict(mejor.org,n.ahead=40)$pred\n",
        "pred"
      ],
      "execution_count": null,
      "outputs": [
        {
          "output_type": "stream",
          "name": "stdout",
          "text": [
            "Time Series:\n",
            "Start = c(2017, 98) \n",
            "End = c(2017, 137) \n",
            "Frequency = 365 \n",
            " [1]  84.61183  90.72790 129.34268 125.91963 134.73970 172.64557  93.38820\n",
            " [8]  80.95521  79.49297 130.77910 126.00455 133.14208 166.37959  91.33507\n",
            "[15]  80.44445  79.68894 136.92943 128.03998 132.32531 160.30797  89.93440\n",
            "[22]  80.50137  80.39719 142.69425 129.69195 131.23902 154.01969  88.97218\n",
            "[29]  80.99614  81.52564 147.99112 130.95041 129.90792 147.59793  88.45630\n",
            "[36]  81.90003  83.02833 152.76813 131.82216 128.36423\n"
          ]
        }
      ]
    },
    {
      "cell_type": "markdown",
      "metadata": {
        "id": "adCKzlP-WLuY"
      },
      "source": [
        "La tabla arriba presentada serían el número de ventas esperados para los próximos 40 días, empezando el 5 de septiembre del 2017"
      ]
    },
    {
      "cell_type": "code",
      "metadata": {
        "colab": {
          "base_uri": "https://localhost:8080/",
          "height": 497
        },
        "id": "5lwxGv9l9LyO",
        "outputId": "d562aa7e-02b0-4fd1-f524-f35f8a2c28c1"
      },
      "source": [
        "%%R\n",
        "plot(serie,xlim=c(2016.84,2017.36))\n",
        "lines(pred,col=\"red\")"
      ],
      "execution_count": null,
      "outputs": [
        {
          "output_type": "display_data",
          "data": {
            "image/png": "[encoded data removed]"
          },
          "metadata": {}
        }
      ]
    },
    {
      "cell_type": "markdown",
      "metadata": {
        "id": "FlITbAtJPnXY"
      },
      "source": [
        "# Conclusiones"
      ]
    },
    {
      "cell_type": "markdown",
      "metadata": {
        "id": "Flum2OjiPhQ7"
      },
      "source": [
        "Los resultados obtenidos son lor esperados para los objetivos que se tienen planteados, se logra ver de manera clara los  itemsets más repetitivos que se tienen en la panadería, así como se logró visualizar la tendencia que tiene  la serie de tiempo haciendo una media movil por semana.\n",
        "\n",
        "\n",
        "Las técnicas utlilizadas permiten  hacer un cambio significativo en la panadería , y son las adecuadas para el tipo de datos que se encuentran en el registro.\n",
        "\n",
        "\n",
        " Como áreas de oportunidad, todavía se puede hacer un análisis especifico de los productos más importantes, así como explorar más el área para realizar predicciones."
      ]
    },
    {
      "cell_type": "markdown",
      "metadata": {
        "id": "xox7mprDPpnb"
      },
      "source": [
        ""
      ]
    }
  ]
}